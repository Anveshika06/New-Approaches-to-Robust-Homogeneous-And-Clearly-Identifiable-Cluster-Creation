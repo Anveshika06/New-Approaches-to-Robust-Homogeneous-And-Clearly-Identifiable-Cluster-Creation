{
 "cells": [
  {
   "cell_type": "code",
   "execution_count": 36,
   "id": "f236be50",
   "metadata": {},
   "outputs": [],
   "source": [
    "import pandas as pd\n",
    "import numpy as np\n",
    "import matplotlib.pyplot as plt\n",
    "from sklearn.cluster import KMeans\n",
    "from sklearn.preprocessing import StandardScaler\n",
    "from sklearn.metrics import accuracy_score\n",
    "from sklearn.metrics import silhouette_score"
   ]
  },
  {
   "cell_type": "code",
   "execution_count": 37,
   "id": "4719828d",
   "metadata": {},
   "outputs": [
    {
     "data": {
      "text/html": [
       "<div>\n",
       "<style scoped>\n",
       "    .dataframe tbody tr th:only-of-type {\n",
       "        vertical-align: middle;\n",
       "    }\n",
       "\n",
       "    .dataframe tbody tr th {\n",
       "        vertical-align: top;\n",
       "    }\n",
       "\n",
       "    .dataframe thead th {\n",
       "        text-align: right;\n",
       "    }\n",
       "</style>\n",
       "<table border=\"1\" class=\"dataframe\">\n",
       "  <thead>\n",
       "    <tr style=\"text-align: right;\">\n",
       "      <th></th>\n",
       "      <th>Id</th>\n",
       "      <th>SepalLengthCm</th>\n",
       "      <th>SepalWidthCm</th>\n",
       "      <th>PetalLengthCm</th>\n",
       "      <th>PetalWidthCm</th>\n",
       "      <th>Species</th>\n",
       "    </tr>\n",
       "  </thead>\n",
       "  <tbody>\n",
       "    <tr>\n",
       "      <th>0</th>\n",
       "      <td>1</td>\n",
       "      <td>5.1</td>\n",
       "      <td>3.5</td>\n",
       "      <td>1.4</td>\n",
       "      <td>0.2</td>\n",
       "      <td>Iris-setosa</td>\n",
       "    </tr>\n",
       "    <tr>\n",
       "      <th>1</th>\n",
       "      <td>2</td>\n",
       "      <td>4.9</td>\n",
       "      <td>3.0</td>\n",
       "      <td>1.4</td>\n",
       "      <td>0.2</td>\n",
       "      <td>Iris-setosa</td>\n",
       "    </tr>\n",
       "    <tr>\n",
       "      <th>2</th>\n",
       "      <td>3</td>\n",
       "      <td>4.7</td>\n",
       "      <td>3.2</td>\n",
       "      <td>1.3</td>\n",
       "      <td>0.2</td>\n",
       "      <td>Iris-setosa</td>\n",
       "    </tr>\n",
       "    <tr>\n",
       "      <th>3</th>\n",
       "      <td>4</td>\n",
       "      <td>4.6</td>\n",
       "      <td>3.1</td>\n",
       "      <td>1.5</td>\n",
       "      <td>0.2</td>\n",
       "      <td>Iris-setosa</td>\n",
       "    </tr>\n",
       "    <tr>\n",
       "      <th>4</th>\n",
       "      <td>5</td>\n",
       "      <td>5.0</td>\n",
       "      <td>3.6</td>\n",
       "      <td>1.4</td>\n",
       "      <td>0.2</td>\n",
       "      <td>Iris-setosa</td>\n",
       "    </tr>\n",
       "  </tbody>\n",
       "</table>\n",
       "</div>"
      ],
      "text/plain": [
       "   Id  SepalLengthCm  SepalWidthCm  PetalLengthCm  PetalWidthCm      Species\n",
       "0   1            5.1           3.5            1.4           0.2  Iris-setosa\n",
       "1   2            4.9           3.0            1.4           0.2  Iris-setosa\n",
       "2   3            4.7           3.2            1.3           0.2  Iris-setosa\n",
       "3   4            4.6           3.1            1.5           0.2  Iris-setosa\n",
       "4   5            5.0           3.6            1.4           0.2  Iris-setosa"
      ]
     },
     "execution_count": 37,
     "metadata": {},
     "output_type": "execute_result"
    }
   ],
   "source": [
    "df = pd.read_csv(\"./dataset/Iris.csv\")\n",
    "df.head()"
   ]
  },
  {
   "cell_type": "code",
   "execution_count": 38,
   "id": "a9ad58b9",
   "metadata": {},
   "outputs": [
    {
     "data": {
      "text/html": [
       "<div>\n",
       "<style scoped>\n",
       "    .dataframe tbody tr th:only-of-type {\n",
       "        vertical-align: middle;\n",
       "    }\n",
       "\n",
       "    .dataframe tbody tr th {\n",
       "        vertical-align: top;\n",
       "    }\n",
       "\n",
       "    .dataframe thead th {\n",
       "        text-align: right;\n",
       "    }\n",
       "</style>\n",
       "<table border=\"1\" class=\"dataframe\">\n",
       "  <thead>\n",
       "    <tr style=\"text-align: right;\">\n",
       "      <th></th>\n",
       "      <th>Id</th>\n",
       "      <th>SepalLengthCm</th>\n",
       "      <th>SepalWidthCm</th>\n",
       "      <th>PetalLengthCm</th>\n",
       "      <th>PetalWidthCm</th>\n",
       "      <th>Species</th>\n",
       "    </tr>\n",
       "  </thead>\n",
       "  <tbody>\n",
       "    <tr>\n",
       "      <th>145</th>\n",
       "      <td>146</td>\n",
       "      <td>6.7</td>\n",
       "      <td>3.0</td>\n",
       "      <td>5.2</td>\n",
       "      <td>2.3</td>\n",
       "      <td>Iris-virginica</td>\n",
       "    </tr>\n",
       "    <tr>\n",
       "      <th>146</th>\n",
       "      <td>147</td>\n",
       "      <td>6.3</td>\n",
       "      <td>2.5</td>\n",
       "      <td>5.0</td>\n",
       "      <td>1.9</td>\n",
       "      <td>Iris-virginica</td>\n",
       "    </tr>\n",
       "    <tr>\n",
       "      <th>147</th>\n",
       "      <td>148</td>\n",
       "      <td>6.5</td>\n",
       "      <td>3.0</td>\n",
       "      <td>5.2</td>\n",
       "      <td>2.0</td>\n",
       "      <td>Iris-virginica</td>\n",
       "    </tr>\n",
       "    <tr>\n",
       "      <th>148</th>\n",
       "      <td>149</td>\n",
       "      <td>6.2</td>\n",
       "      <td>3.4</td>\n",
       "      <td>5.4</td>\n",
       "      <td>2.3</td>\n",
       "      <td>Iris-virginica</td>\n",
       "    </tr>\n",
       "    <tr>\n",
       "      <th>149</th>\n",
       "      <td>150</td>\n",
       "      <td>5.9</td>\n",
       "      <td>3.0</td>\n",
       "      <td>5.1</td>\n",
       "      <td>1.8</td>\n",
       "      <td>Iris-virginica</td>\n",
       "    </tr>\n",
       "  </tbody>\n",
       "</table>\n",
       "</div>"
      ],
      "text/plain": [
       "      Id  SepalLengthCm  SepalWidthCm  PetalLengthCm  PetalWidthCm  \\\n",
       "145  146            6.7           3.0            5.2           2.3   \n",
       "146  147            6.3           2.5            5.0           1.9   \n",
       "147  148            6.5           3.0            5.2           2.0   \n",
       "148  149            6.2           3.4            5.4           2.3   \n",
       "149  150            5.9           3.0            5.1           1.8   \n",
       "\n",
       "            Species  \n",
       "145  Iris-virginica  \n",
       "146  Iris-virginica  \n",
       "147  Iris-virginica  \n",
       "148  Iris-virginica  \n",
       "149  Iris-virginica  "
      ]
     },
     "execution_count": 38,
     "metadata": {},
     "output_type": "execute_result"
    }
   ],
   "source": [
    "df.tail()"
   ]
  },
  {
   "cell_type": "code",
   "execution_count": 39,
   "id": "b61c8d58",
   "metadata": {},
   "outputs": [
    {
     "data": {
      "text/plain": [
       "Text(0.5, 1.0, 'Iris')"
      ]
     },
     "execution_count": 39,
     "metadata": {},
     "output_type": "execute_result"
    },
    {
     "data": {
      "image/png": "[encoded data removed]",
      "text/plain": [
       "<Figure size 720x432 with 1 Axes>"
      ]
     },
     "metadata": {
      "needs_background": "light"
     },
     "output_type": "display_data"
    }
   ],
   "source": [
    "plt.figure(figsize=(10,6))\n",
    "plt.scatter(df['SepalLengthCm'],df['SepalWidthCm'])\n",
    "plt.xlabel('SepalLengthCm')\n",
    "plt.ylabel('SepalWidthCm')\n",
    "plt.title('Iris')"
   ]
  },
  {
   "cell_type": "code",
   "execution_count": 40,
   "id": "dc1079b8",
   "metadata": {},
   "outputs": [
    {
     "data": {
      "text/plain": [
       "array([[5.1, 3.5],\n",
       "       [4.9, 3. ],\n",
       "       [4.7, 3.2],\n",
       "       [4.6, 3.1],\n",
       "       [5. , 3.6]])"
      ]
     },
     "execution_count": 40,
     "metadata": {},
     "output_type": "execute_result"
    }
   ],
   "source": [
    "X = df.iloc[:, [1,2]].values\n",
    "X[:5]"
   ]
  },
  {
   "cell_type": "code",
   "execution_count": 41,
   "id": "bc9fbd4a",
   "metadata": {},
   "outputs": [
    {
     "data": {
      "text/plain": [
       "3.0"
      ]
     },
     "execution_count": 41,
     "metadata": {},
     "output_type": "execute_result"
    }
   ],
   "source": [
    "X[1,1]"
   ]
  },
  {
   "cell_type": "code",
   "execution_count": 42,
   "id": "6fd5c50a",
   "metadata": {},
   "outputs": [
    {
     "data": {
      "text/plain": [
       "150"
      ]
     },
     "execution_count": 42,
     "metadata": {},
     "output_type": "execute_result"
    }
   ],
   "source": [
    "len(X)"
   ]
  },
  {
   "cell_type": "code",
   "execution_count": 43,
   "id": "277a775a",
   "metadata": {},
   "outputs": [
    {
     "name": "stderr",
     "output_type": "stream",
     "text": [
      "C:\\ProgramData\\Anaconda3\\lib\\site-packages\\sklearn\\cluster\\_kmeans.py:1036: UserWarning: KMeans is known to have a memory leak on Windows with MKL, when there are less chunks than available threads. You can avoid it by setting the environment variable OMP_NUM_THREADS=1.\n",
      "  warnings.warn(\n"
     ]
    },
    {
     "data": {
      "image/png": "[encoded data removed]",
      "text/plain": [
       "<Figure size 720x432 with 1 Axes>"
      ]
     },
     "metadata": {
      "needs_background": "light"
     },
     "output_type": "display_data"
    }
   ],
   "source": [
    "clustering_score = []\n",
    "for i in range(1, 11):\n",
    "    kmeans = KMeans(n_clusters = i, init = 'random', random_state = 42)\n",
    "    #kmeans = KMeans(n_clusters=i, init ='k-means++',random_state=0 )\n",
    "    kmeans.fit(X)\n",
    "    clustering_score.append(kmeans.inertia_) # inertia_ = Sum of squared distances of samples to their closest cluster center.\n",
    "\n",
    "plt.figure(figsize=(10,6))\n",
    "plt.plot(range(1, 11), clustering_score)\n",
    "plt.scatter(5,clustering_score[4], s = 200, c = 'red', marker='*')\n",
    "plt.title('The Elbow Method')\n",
    "plt.xlabel('No. of Clusters')\n",
    "plt.ylabel('Clustering Score')\n",
    "plt.show()"
   ]
  },
  {
   "cell_type": "code",
   "execution_count": 44,
   "id": "99da470e",
   "metadata": {},
   "outputs": [
    {
     "data": {
      "text/plain": [
       "array([0, 3, 3, 3, 0, 0, 3, 0, 3, 3, 0, 0, 3, 3, 0, 0, 0, 0, 0, 0, 0, 0,\n",
       "       0, 0, 0, 3, 0, 0, 0, 3, 3, 0, 0, 0, 3, 3, 0, 3, 3, 0, 0, 3, 3, 0,\n",
       "       0, 3, 0, 3, 0, 0, 1, 1, 1, 2, 1, 2, 1, 3, 1, 3, 3, 2, 2, 2, 2, 1,\n",
       "       2, 2, 2, 2, 2, 2, 2, 2, 1, 1, 1, 1, 2, 2, 2, 2, 2, 2, 2, 1, 1, 2,\n",
       "       2, 2, 2, 2, 2, 3, 2, 2, 2, 2, 3, 2, 1, 2, 4, 1, 1, 4, 3, 4, 1, 4,\n",
       "       1, 1, 1, 2, 2, 1, 1, 4, 4, 2, 1, 2, 4, 2, 1, 4, 2, 2, 1, 4, 4, 4,\n",
       "       1, 1, 2, 4, 1, 1, 2, 1, 1, 1, 2, 1, 1, 1, 2, 1, 1, 2])"
      ]
     },
     "execution_count": 44,
     "metadata": {},
     "output_type": "execute_result"
    }
   ],
   "source": [
    "kmeans= KMeans(n_clusters = 5, random_state = 42)\n",
    "\n",
    "# Compute k-means clustering\n",
    "kmeans.fit(X)\n",
    "\n",
    "# Compute cluster centers and predict cluster index for each sample.\n",
    "pred = kmeans.predict(X)\n",
    "\n",
    "pred"
   ]
  },
  {
   "cell_type": "code",
   "execution_count": 45,
   "id": "f0af51c1",
   "metadata": {},
   "outputs": [
    {
     "name": "stdout",
     "output_type": "stream",
     "text": [
      "Silhouette Score: 0.41512382232807116\n"
     ]
    }
   ],
   "source": [
    "score = silhouette_score(X, pred)\n",
    "print(\"Silhouette Score:\", score)"
   ]
  },
  {
   "cell_type": "code",
   "execution_count": 46,
   "id": "87446843",
   "metadata": {},
   "outputs": [
    {
     "data": {
      "text/plain": [
       "150"
      ]
     },
     "execution_count": 46,
     "metadata": {},
     "output_type": "execute_result"
    }
   ],
   "source": [
    "len(pred)"
   ]
  },
  {
   "cell_type": "code",
   "execution_count": 47,
   "id": "5da38da3",
   "metadata": {},
   "outputs": [
    {
     "name": "stdout",
     "output_type": "stream",
     "text": [
      "Number of data points in each cluster= \n",
      " 2    45\n",
      "1    37\n",
      "0    31\n",
      "3    25\n",
      "4    12\n",
      "Name: Cluster, dtype: int64\n"
     ]
    }
   ],
   "source": [
    "df['Cluster'] = pd.DataFrame(pred, columns=['cluster'] )\n",
    "print('Number of data points in each cluster= \\n', df['Cluster'].value_counts())"
   ]
  },
  {
   "cell_type": "code",
   "execution_count": 48,
   "id": "28c5b113",
   "metadata": {},
   "outputs": [
    {
     "data": {
      "text/plain": [
       "Text(0.5, 1.0, 'Clusters')"
      ]
     },
     "execution_count": 48,
     "metadata": {},
     "output_type": "execute_result"
    },
    {
     "data": {
      "image/png": "[encoded data removed]",
      "text/plain": [
       "<Figure size 720x432 with 1 Axes>"
      ]
     },
     "metadata": {
      "needs_background": "light"
     },
     "output_type": "display_data"
    }
   ],
   "source": [
    "plt.figure(figsize=(10,6))\n",
    "plt.scatter(X[pred == 0, 0], X[pred == 0, 1], c = 'black', label = 'Cluster 0')\n",
    "plt.scatter(X[pred == 1, 0], X[pred == 1, 1], c = 'green', label = 'Cluster 1')\n",
    "plt.scatter(X[pred == 2, 0], X[pred == 2, 1], c = 'blue', label = 'Cluster 2')\n",
    "plt.scatter(X[pred == 3, 0], X[pred == 3, 1], c = 'purple', label = 'Cluster 3')\n",
    "plt.scatter(X[pred == 4, 0], X[pred == 4, 1], c = 'orange', label = 'Cluster 4')\n",
    "\n",
    "plt.scatter(kmeans.cluster_centers_[:,0], kmeans.cluster_centers_[:, 1],s = 300, c = 'red', label = 'Centroid', marker='*')\n",
    "\n",
    "plt.xlabel('SepalLengthCm')\n",
    "plt.ylabel('SepalWidthCm')\n",
    "plt.legend()\n",
    "plt.title('Clusters')"
   ]
  },
  {
   "cell_type": "code",
   "execution_count": 49,
   "id": "2ea785df",
   "metadata": {},
   "outputs": [
    {
     "data": {
      "text/plain": [
       "array([5.19677419, 6.56216216, 5.85777778, 4.772     , 7.475     ])"
      ]
     },
     "execution_count": 49,
     "metadata": {},
     "output_type": "execute_result"
    }
   ],
   "source": [
    "kmeans.cluster_centers_[:,0]"
   ]
  },
  {
   "cell_type": "code",
   "execution_count": 50,
   "id": "2b737814",
   "metadata": {},
   "outputs": [
    {
     "data": {
      "text/plain": [
       "array([3.63870968, 3.05945946, 2.71333333, 2.9       , 3.125     ])"
      ]
     },
     "execution_count": 50,
     "metadata": {},
     "output_type": "execute_result"
    }
   ],
   "source": [
    "kmeans.cluster_centers_[:,1]"
   ]
  },
  {
   "cell_type": "code",
   "execution_count": 51,
   "id": "695d8e10",
   "metadata": {},
   "outputs": [],
   "source": [
    "distance = []\n",
    "max0 = max1 = max2 = max3 = max4 = 0\n",
    "for i in range(0, len(X)):\n",
    "    if pred[i]==0:\n",
    "        d = np.sqrt((X[:, 0][i] - kmeans.cluster_centers_[:,0][0])**2+(X[:, 1][i] - kmeans.cluster_centers_[:,1][0])**2)\n",
    "        if d>max0:\n",
    "            max0=d\n",
    "    if pred[i]==1:\n",
    "        d = np.sqrt((X[:, 0][i] - kmeans.cluster_centers_[:,0][1])**2+(X[:, 1][i] - kmeans.cluster_centers_[:,1][1])**2)\n",
    "        if d>max1:\n",
    "            max1=d\n",
    "    if pred[i]==2:\n",
    "        d = np.sqrt((X[:, 0][i] - kmeans.cluster_centers_[:,0][2])**2+(X[:, 1][i] - kmeans.cluster_centers_[:,1][2])**2)\n",
    "        if d>max2:\n",
    "            max2=d\n",
    "    if pred[i]==3:\n",
    "        d = np.sqrt((X[:, 0][i] - kmeans.cluster_centers_[:,0][3])**2+(X[:, 1][i] - kmeans.cluster_centers_[:,1][3])**2)\n",
    "        if d>max3:\n",
    "            max3=d\n",
    "    if pred[i]==4:\n",
    "        d = np.sqrt((X[:, 0][i] - kmeans.cluster_centers_[:,0][4])**2+(X[:, 1][i] - kmeans.cluster_centers_[:,1][4])**2)\n",
    "        if d>max4:\n",
    "            max4=d\n",
    "    distance.append(d) "
   ]
  },
  {
   "cell_type": "code",
   "execution_count": 52,
   "id": "5d268d0d",
   "metadata": {},
   "outputs": [
    {
     "data": {
      "text/plain": [
       "[0.169131957792495,\n",
       " 0.16243152403397576,\n",
       " 0.3085190431723789,\n",
       " 0.26378779350076126,\n",
       " 0.2005455618370269,\n",
       " 0.33101867180297545,\n",
       " 0.5287570330501526,\n",
       " 0.30935803422615477,\n",
       " 0.3719999999999999,\n",
       " 0.23745315327449348,\n",
       " 0.21226688872725288,\n",
       " 0.4630465103632959,\n",
       " 0.10384603988597733,\n",
       " 0.4824769424542487,\n",
       " 0.7031444167165268,\n",
       " 0.9125783076173898,\n",
       " 0.33101867180297545,\n",
       " 0.169131957792495,\n",
       " 0.528441842057425,\n",
       " 0.18809522241436483,\n",
       " 0.31350125757572467,\n",
       " 0.1145501993842892,\n",
       " 0.598028324756645,\n",
       " 0.35226338173938027,\n",
       " 0.4630465103632959,\n",
       " 0.24896586111352678,\n",
       " 0.30935803422615477,\n",
       " 0.13874718172649395,\n",
       " 0.23873147241391474,\n",
       " 0.3085190431723789,\n",
       " 0.20195048898182952,\n",
       " 0.31350125757572467,\n",
       " 0.46130160148629296,\n",
       " 0.6379598074494315,\n",
       " 0.23745315327449348,\n",
       " 0.37680764323458205,\n",
       " 0.3334460440731187,\n",
       " 0.23745315327449348,\n",
       " 0.3852064381601117,\n",
       " 0.2575801906797053,\n",
       " 0.24074978267155248,\n",
       " 0.6587746200332859,\n",
       " 0.47789538604175713,\n",
       " 0.24074978267155248,\n",
       " 0.18809522241436483,\n",
       " 0.10384603988597733,\n",
       " 0.18809522241436483,\n",
       " 0.34580919594481635,\n",
       " 0.1200502842963118,\n",
       " 0.3917197069642294,\n",
       " 0.45984085918711026,\n",
       " 0.21458846747328905,\n",
       " 0.3402615760003829,\n",
       " 0.5466711833598416,\n",
       " 0.2668020717829416,\n",
       " 0.18001371689847648,\n",
       " 0.35579312937868207,\n",
       " 0.5161240161046567,\n",
       " 0.163887220927519,\n",
       " 0.47242353878696586,\n",
       " 0.9284309344264654,\n",
       " 0.28975937228528176,\n",
       " 0.532670884885722,\n",
       " 0.30580393944930767,\n",
       " 0.31826691182165634,\n",
       " 0.14367604172975126,\n",
       " 0.3855219325717115,\n",
       " 0.05929628472945049,\n",
       " 0.6169498849127271,\n",
       " 0.33460498177277737,\n",
       " 0.4884947906516786,\n",
       " 0.2572600164218733,\n",
       " 0.49099043263415176,\n",
       " 0.2572600164218733,\n",
       " 0.227428859312556,\n",
       " 0.07047786384002805,\n",
       " 0.35197449937512837,\n",
       " 0.15011561164323012,\n",
       " 0.23467340057678365,\n",
       " 0.19426340778679393,\n",
       " 0.4755867071832252,\n",
       " 0.4755867071832252,\n",
       " 0.05929628472945049,\n",
       " 0.14284585493322843,\n",
       " 0.5401280140901209,\n",
       " 0.6572626235520176,\n",
       " 0.14367604172975126,\n",
       " 0.6053139171302813,\n",
       " 0.3855219325717115,\n",
       " 0.4165525769728427,\n",
       " 0.3752990577073827,\n",
       " 0.3752990577073825,\n",
       " 0.12721130472321523,\n",
       " 0.641859797775184,\n",
       " 0.25812237503522883,\n",
       " 0.3272179777125204,\n",
       " 0.24441413953562127,\n",
       " 0.38982110490218536,\n",
       " 0.5172852211304703,\n",
       " 0.18001371689847648,\n",
       " 0.35579312937868207,\n",
       " 0.05929628472945049,\n",
       " 0.39528470752104744,\n",
       " 0.30684901577264856,\n",
       " 0.08602070520453833,\n",
       " 0.1767766952966369,\n",
       " 0.4199809519490139,\n",
       " 0.28504385627478446,\n",
       " 0.5761893406845361,\n",
       " 0.5488624600025035,\n",
       " 0.15367425919815725,\n",
       " 0.39434460796617204,\n",
       " 0.24515763179348185,\n",
       " 0.26533928897094167,\n",
       " 0.10416037018007071,\n",
       " 0.21458846747328905,\n",
       " 0.08602070520453833,\n",
       " 0.7115124735378854,\n",
       " 0.5711829829397933,\n",
       " 0.532670884885722,\n",
       " 0.3659044249669202,\n",
       " 0.2719567866907547,\n",
       " 0.3952847075210479,\n",
       " 0.4424231815862932,\n",
       " 0.27723459593518524,\n",
       " 0.285043856274784,\n",
       " 0.35302572214192446,\n",
       " 0.3752990577073825,\n",
       " 0.3059669556342683,\n",
       " 0.3020761493398638,\n",
       " 0.3335416016031584,\n",
       " 0.7976528066771911,\n",
       " 0.3059669556342683,\n",
       " 0.36884713686368104,\n",
       " 0.2674248481026322,\n",
       " 0.2573907535246755,\n",
       " 0.4297637246455123,\n",
       " 0.1671529307682837,\n",
       " 0.32000771595635774,\n",
       " 0.3402615760003829,\n",
       " 0.14367604172975126,\n",
       " 0.3402615760003829,\n",
       " 0.05929628472945049,\n",
       " 0.2762579965228242,\n",
       " 0.27723459593518524,\n",
       " 0.15011561164323012,\n",
       " 0.49099043263415176,\n",
       " 0.08602070520453833,\n",
       " 0.49712100282890487,\n",
       " 0.28975937228528176]"
      ]
     },
     "execution_count": 52,
     "metadata": {},
     "output_type": "execute_result"
    }
   ],
   "source": [
    "distance"
   ]
  },
  {
   "cell_type": "code",
   "execution_count": 53,
   "id": "db6b3ceb",
   "metadata": {},
   "outputs": [
    {
     "data": {
      "text/plain": [
       "150"
      ]
     },
     "execution_count": 53,
     "metadata": {},
     "output_type": "execute_result"
    }
   ],
   "source": [
    "len(distance)"
   ]
  },
  {
   "cell_type": "code",
   "execution_count": 54,
   "id": "e048ca1f",
   "metadata": {},
   "outputs": [
    {
     "data": {
      "text/plain": [
       "0.9125783076173898"
      ]
     },
     "execution_count": 54,
     "metadata": {},
     "output_type": "execute_result"
    }
   ],
   "source": [
    "max0"
   ]
  },
  {
   "cell_type": "code",
   "execution_count": 55,
   "id": "f2e42d5b",
   "metadata": {},
   "outputs": [
    {
     "data": {
      "text/plain": [
       "0.6572626235520176"
      ]
     },
     "execution_count": 55,
     "metadata": {},
     "output_type": "execute_result"
    }
   ],
   "source": [
    "max1"
   ]
  },
  {
   "cell_type": "code",
   "execution_count": 56,
   "id": "911cfbd8",
   "metadata": {},
   "outputs": [
    {
     "data": {
      "text/plain": [
       "0.6169498849127271"
      ]
     },
     "execution_count": 56,
     "metadata": {},
     "output_type": "execute_result"
    }
   ],
   "source": [
    "max2"
   ]
  },
  {
   "cell_type": "code",
   "execution_count": 57,
   "id": "cdba1d00",
   "metadata": {},
   "outputs": [
    {
     "data": {
      "text/plain": [
       "0.9284309344264654"
      ]
     },
     "execution_count": 57,
     "metadata": {},
     "output_type": "execute_result"
    }
   ],
   "source": [
    "max3"
   ]
  },
  {
   "cell_type": "code",
   "execution_count": 58,
   "id": "0231c536",
   "metadata": {},
   "outputs": [
    {
     "data": {
      "text/plain": [
       "0.7976528066771911"
      ]
     },
     "execution_count": 58,
     "metadata": {},
     "output_type": "execute_result"
    }
   ],
   "source": [
    "max4"
   ]
  },
  {
   "cell_type": "code",
   "execution_count": 59,
   "id": "15ac6c6e",
   "metadata": {},
   "outputs": [
    {
     "name": "stdout",
     "output_type": "stream",
     "text": [
      "Enter lambda 0 value: 0.6\n",
      "Enter lambda 1 value: 0.3\n",
      "Enter lambda 2 value: 0.3\n",
      "Enter lambda 3 value: 0.6\n",
      "Enter lambda 4 value: 0.4\n"
     ]
    }
   ],
   "source": [
    "l0 = float(input(\"Enter lambda 0 value: \"))\n",
    "l1 = float(input(\"Enter lambda 1 value: \"))\n",
    "l2 = float(input(\"Enter lambda 2 value: \"))\n",
    "l3 = float(input(\"Enter lambda 3 value: \"))\n",
    "l4 = float(input(\"Enter lambda 4 value: \"))"
   ]
  },
  {
   "cell_type": "code",
   "execution_count": 60,
   "id": "7b23f2a9",
   "metadata": {},
   "outputs": [
    {
     "data": {
      "text/plain": [
       "Text(0.5, 1.0, 'Clusters')"
      ]
     },
     "execution_count": 60,
     "metadata": {},
     "output_type": "execute_result"
    },
    {
     "data": {
      "image/png": "[encoded data removed]",
      "text/plain": [
       "<Figure size 720x432 with 1 Axes>"
      ]
     },
     "metadata": {
      "needs_background": "light"
     },
     "output_type": "display_data"
    }
   ],
   "source": [
    "c0=c1=c2=c3=c4=0\n",
    "coordinates =[]\n",
    "plt.figure(figsize=(10,6))\n",
    "for i in range(0, len(X)):\n",
    "    if pred[i]==0:\n",
    "        if distance[i]<=max0-l0:\n",
    "            plt.scatter(X[pred == 0, 0][c0], X[pred == 0, 1][c0], c = 'black')#, label = 'Cluster 0')\n",
    "            coordinates.append((X[pred == 0, 0][c0],X[pred == 0, 1][c0]))\n",
    "            c0=c0+1\n",
    "        else:\n",
    "            c0=c0+1\n",
    "    if pred[i]==1:\n",
    "        if distance[i]<=max1-l1:\n",
    "            plt.scatter(X[pred == 1, 0][c1], X[pred == 1, 1][c1], c = 'green')#, label = 'Cluster 1')\n",
    "            coordinates.append((X[pred == 1, 0][c1],X[pred == 1, 1][c1]))\n",
    "            c1=c1+1\n",
    "        else:\n",
    "            c1=c1+1\n",
    "    if pred[i]==2:\n",
    "        if distance[i]<=max2-l2:\n",
    "            plt.scatter(X[pred == 2, 0][c2], X[pred == 2, 1][c2], c = 'blue')#, label = 'Cluster 2')\n",
    "            coordinates.append((X[pred == 2, 0][c2],X[pred == 2, 1][c2]))\n",
    "            c2=c2+1\n",
    "        else:\n",
    "            c2=c2+1\n",
    "    if pred[i]==3:\n",
    "        if distance[i]<=max3-l3:\n",
    "            plt.scatter(X[pred == 3, 0][c3], X[pred == 3, 1][c3], c = 'purple')#, label = 'Cluster 3')\n",
    "            coordinates.append((X[pred == 3, 0][c3],X[pred == 3, 1][c3]))\n",
    "            c3=c3+1\n",
    "        else:\n",
    "            c3=c3+1\n",
    "    if pred[i]==4:\n",
    "        if distance[i]<=max4-l4:\n",
    "            plt.scatter(X[pred == 4, 0][c4], X[pred == 4, 1][c4], c = 'orange')# , label = 'Cluster 4')\n",
    "            coordinates.append((X[pred == 4, 0][c4],X[pred == 4, 1][c4]))\n",
    "            c4=c4+1\n",
    "        else:\n",
    "            c4=c4+1\n",
    "plt.scatter(kmeans.cluster_centers_[:,0], kmeans.cluster_centers_[:, 1],s = 300, c = 'red', label = 'Centroid', marker='*')\n",
    "plt.xlabel('SepalLengthCm')\n",
    "plt.ylabel('SepalWidthCm')\n",
    "plt.legend()\n",
    "plt.title('Clusters')"
   ]
  },
  {
   "cell_type": "code",
   "execution_count": 61,
   "id": "ffd364de",
   "metadata": {},
   "outputs": [
    {
     "data": {
      "text/plain": [
       "[(5.1, 3.5),\n",
       " (4.9, 3.0),\n",
       " (4.7, 3.2),\n",
       " (4.6, 3.1),\n",
       " (5.0, 3.6),\n",
       " (5.0, 3.4),\n",
       " (4.9, 3.1),\n",
       " (5.4, 3.7),\n",
       " (4.8, 3.0),\n",
       " (5.1, 3.5),\n",
       " (5.1, 3.8),\n",
       " (5.1, 3.7),\n",
       " (5.0, 3.0),\n",
       " (5.0, 3.4),\n",
       " (5.2, 3.5),\n",
       " (5.2, 3.4),\n",
       " (4.7, 3.2),\n",
       " (4.8, 3.1),\n",
       " (4.9, 3.1),\n",
       " (4.9, 3.1),\n",
       " (5.1, 3.4),\n",
       " (5.0, 3.5),\n",
       " (5.0, 3.5),\n",
       " (5.1, 3.8),\n",
       " (4.8, 3.0),\n",
       " (5.1, 3.8),\n",
       " (5.3, 3.7),\n",
       " (6.4, 3.2),\n",
       " (6.9, 3.1),\n",
       " (6.5, 2.8),\n",
       " (5.7, 2.8),\n",
       " (6.3, 3.3),\n",
       " (6.6, 2.9),\n",
       " (5.9, 3.0),\n",
       " (6.1, 2.9),\n",
       " (6.7, 3.1),\n",
       " (5.8, 2.7),\n",
       " (6.1, 2.8),\n",
       " (6.1, 2.8),\n",
       " (6.4, 2.9),\n",
       " (6.6, 3.0),\n",
       " (6.8, 2.8),\n",
       " (6.7, 3.0),\n",
       " (6.0, 2.9),\n",
       " (5.7, 2.6),\n",
       " (5.8, 2.7),\n",
       " (6.0, 2.7),\n",
       " (6.7, 3.1),\n",
       " (5.8, 2.6),\n",
       " (5.6, 2.7),\n",
       " (5.7, 2.9),\n",
       " (5.7, 2.8),\n",
       " (6.3, 3.3),\n",
       " (5.8, 2.7),\n",
       " (7.1, 3.0),\n",
       " (6.3, 2.9),\n",
       " (6.5, 3.0),\n",
       " (7.6, 3.0),\n",
       " (7.3, 2.9),\n",
       " (6.5, 3.2),\n",
       " (6.8, 3.0),\n",
       " (5.7, 2.5),\n",
       " (5.8, 2.8),\n",
       " (6.4, 3.2),\n",
       " (6.5, 3.0),\n",
       " (5.6, 2.8),\n",
       " (7.7, 2.8),\n",
       " (6.7, 3.3),\n",
       " (7.2, 3.2),\n",
       " (6.4, 2.8),\n",
       " (7.2, 3.0),\n",
       " (7.4, 2.8),\n",
       " (6.4, 2.8),\n",
       " (6.1, 2.6),\n",
       " (7.7, 3.0),\n",
       " (6.4, 3.1),\n",
       " (6.9, 3.1),\n",
       " (6.7, 3.1),\n",
       " (6.9, 3.1),\n",
       " (5.8, 2.7),\n",
       " (6.8, 3.2),\n",
       " (6.7, 3.3),\n",
       " (6.7, 3.0),\n",
       " (6.5, 3.0),\n",
       " (5.9, 3.0)]"
      ]
     },
     "execution_count": 61,
     "metadata": {},
     "output_type": "execute_result"
    }
   ],
   "source": [
    "coordinates"
   ]
  },
  {
   "cell_type": "code",
   "execution_count": 62,
   "id": "8af6830a",
   "metadata": {},
   "outputs": [
    {
     "name": "stderr",
     "output_type": "stream",
     "text": [
      "C:\\ProgramData\\Anaconda3\\lib\\site-packages\\sklearn\\cluster\\_kmeans.py:1036: UserWarning: KMeans is known to have a memory leak on Windows with MKL, when there are less chunks than available threads. You can avoid it by setting the environment variable OMP_NUM_THREADS=1.\n",
      "  warnings.warn(\n"
     ]
    },
    {
     "data": {
      "image/png": "[encoded data removed]",
      "text/plain": [
       "<Figure size 720x432 with 1 Axes>"
      ]
     },
     "metadata": {
      "needs_background": "light"
     },
     "output_type": "display_data"
    }
   ],
   "source": [
    "clustering_score = []\n",
    "for i in range(1, 11):\n",
    "    kmeans = KMeans(n_clusters = i, init = 'random', random_state = 42)\n",
    "    #kmeans = KMeans(n_clusters=i, init ='k-means++',random_state=0 )\n",
    "    kmeans.fit(coordinates)\n",
    "    clustering_score.append(kmeans.inertia_) # inertia_ = Sum of squared distances of samples to their closest cluster center.\n",
    "\n",
    "plt.figure(figsize=(10,6))\n",
    "plt.plot(range(1, 11), clustering_score)\n",
    "plt.scatter(5,clustering_score[4], s = 200, c = 'red', marker='*')\n",
    "plt.title('The Elbow Method')\n",
    "plt.xlabel('No. of Clusters')\n",
    "plt.ylabel('Clustering Score')\n",
    "plt.show()"
   ]
  },
  {
   "cell_type": "code",
   "execution_count": 63,
   "id": "093277c6",
   "metadata": {},
   "outputs": [
    {
     "data": {
      "text/plain": [
       "array([1, 4, 4, 4, 1, 1, 4, 1, 4, 1, 1, 1, 4, 1, 1, 1, 4, 4, 4, 4, 1, 1,\n",
       "       1, 1, 4, 1, 1, 3, 3, 3, 0, 3, 3, 0, 0, 3, 0, 0, 0, 3, 3, 3, 3, 0,\n",
       "       0, 0, 0, 3, 0, 0, 0, 0, 3, 0, 2, 3, 3, 2, 2, 3, 3, 0, 0, 3, 3, 0,\n",
       "       2, 3, 2, 3, 2, 2, 3, 0, 2, 3, 3, 3, 3, 0, 3, 3, 3, 3, 0])"
      ]
     },
     "execution_count": 63,
     "metadata": {},
     "output_type": "execute_result"
    }
   ],
   "source": [
    "kmeans= KMeans(n_clusters = 5, random_state = 42)\n",
    "\n",
    "# Compute k-means clustering\n",
    "kmeans.fit(coordinates)\n",
    "\n",
    "# Compute cluster centers and predict cluster index for each sample.\n",
    "pred = kmeans.predict(coordinates)\n",
    "\n",
    "pred"
   ]
  },
  {
   "cell_type": "code",
   "execution_count": 64,
   "id": "5870cf38",
   "metadata": {},
   "outputs": [
    {
     "name": "stdout",
     "output_type": "stream",
     "text": [
      "Silhouette Score: 0.5903705466853972\n"
     ]
    }
   ],
   "source": [
    "score = silhouette_score(coordinates, pred)\n",
    "print(\"Silhouette Score:\", score)"
   ]
  },
  {
   "cell_type": "code",
   "execution_count": 65,
   "id": "eade1dab",
   "metadata": {},
   "outputs": [
    {
     "data": {
      "text/plain": [
       "array([5.84285714, 5.1125    , 7.4       , 6.5862069 , 4.81818182])"
      ]
     },
     "execution_count": 65,
     "metadata": {},
     "output_type": "execute_result"
    }
   ],
   "source": [
    "kmeans.cluster_centers_[:,0]"
   ]
  },
  {
   "cell_type": "code",
   "execution_count": 66,
   "id": "0c934eb3",
   "metadata": {},
   "outputs": [
    {
     "data": {
      "text/plain": [
       "array([2.76190476, 3.575     , 2.9625    , 3.05517241, 3.08181818])"
      ]
     },
     "execution_count": 66,
     "metadata": {},
     "output_type": "execute_result"
    }
   ],
   "source": [
    "kmeans.cluster_centers_[:,1]"
   ]
  },
  {
   "cell_type": "code",
   "execution_count": null,
   "id": "424fe362",
   "metadata": {},
   "outputs": [],
   "source": []
  },
  {
   "cell_type": "code",
   "execution_count": null,
   "id": "4ba9ed54",
   "metadata": {},
   "outputs": [],
   "source": []
  },
  {
   "cell_type": "code",
   "execution_count": 63,
   "id": "e675fba4",
   "metadata": {},
   "outputs": [
    {
     "name": "stdout",
     "output_type": "stream",
     "text": [
      "3.9.12\n"
     ]
    }
   ],
   "source": [
    "from platform import python_version\n",
    "\n",
    "print(python_version())"
   ]
  },
  {
   "cell_type": "code",
   "execution_count": null,
   "id": "58e32fe6",
   "metadata": {},
   "outputs": [],
   "source": []
  }
 ],
 "metadata": {
  "kernelspec": {
   "display_name": "Python 3 (ipykernel)",
   "language": "python",
   "name": "python3"
  },
  "language_info": {
   "codemirror_mode": {
    "name": "ipython",
    "version": 3
   },
   "file_extension": ".py",
   "mimetype": "text/x-python",
   "name": "python",
   "nbconvert_exporter": "python",
   "pygments_lexer": "ipython3",
   "version": "3.9.12"
  }
 },
 "nbformat": 4,
 "nbformat_minor": 5
}
